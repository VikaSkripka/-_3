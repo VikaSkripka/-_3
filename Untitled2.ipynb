{
  "nbformat": 4,
  "nbformat_minor": 0,
  "metadata": {
    "colab": {
      "provenance": []
    },
    "kernelspec": {
      "name": "python3",
      "display_name": "Python 3"
    },
    "language_info": {
      "name": "python"
    }
  },
  "cells": [
    {
      "cell_type": "code",
      "execution_count": 4,
      "metadata": {
        "colab": {
          "base_uri": "https://localhost:8080/"
        },
        "id": "ievEoiKUYOlx",
        "outputId": "f3248b18-6bcb-4189-ea48-857d991dc8b0"
      },
      "outputs": [
        {
          "output_type": "stream",
          "name": "stdout",
          "text": [
            "Введите стоимость конфет: 10\n",
            "1\n",
            "Сумма конфет кг 100\n"
          ]
        }
      ],
      "source": [
        "\n",
        "\n",
        "n=int(input(\"Введите стоимость конфет: \"))\n",
        "x=1\n",
        "s=0\n",
        "print(x)\n",
        "for i in range(10):\n",
        "  x=(i+1)*n\n",
        "print(\"Сумма конфет кг\",x)\n",
        "\n",
        "\n",
        "\n",
        ""
      ]
    },
    {
      "cell_type": "code",
      "source": [
        "n=int(input(\"Введите число\"))\n",
        "x=1\n",
        "while n!=0:\n",
        "  x+=n\n",
        "  print(n)\n",
        "  n=int(input(\"Введите число\"))\n",
        "print(x)"
      ],
      "metadata": {
        "colab": {
          "base_uri": "https://localhost:8080/"
        },
        "id": "MXkkZ5dlj7Dw",
        "outputId": "be792660-1a9b-4ba9-f2a8-8dc36d73eaf9"
      },
      "execution_count": 5,
      "outputs": [
        {
          "output_type": "stream",
          "name": "stdout",
          "text": [
            "Введите число2\n",
            "2\n",
            "Введите число1\n",
            "1\n",
            "Введите число3\n",
            "3\n",
            "Введите число0\n",
            "7\n"
          ]
        }
      ]
    }
  ]
}